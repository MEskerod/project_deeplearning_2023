{
  "nbformat": 4,
  "nbformat_minor": 0,
  "metadata": {
    "colab": {
      "provenance": [],
      "mount_file_id": "1oW0C_PcLRmNpgUkP_E46Wi_0myd2wnQk",
      "authorship_tag": "ABX9TyMWf91hZaqOtbw2Qkp5Y34b",
      "include_colab_link": true
    },
    "kernelspec": {
      "name": "python3",
      "display_name": "Python 3"
    },
    "language_info": {
      "name": "python"
    }
  },
  "cells": [
    {
      "cell_type": "markdown",
      "metadata": {
        "id": "view-in-github",
        "colab_type": "text"
      },
      "source": [
        "<a href=\"https://colab.research.google.com/github/MEskerod/project_deeplearning_2023/blob/main/deeplearning_project.ipynb\" target=\"_parent\"><img src=\"https://colab.research.google.com/assets/colab-badge.svg\" alt=\"Open In Colab\"/></a>"
      ]
    },
    {
      "cell_type": "code",
      "execution_count": null,
      "metadata": {
        "id": "UGL8EECjSJ3s"
      },
      "outputs": [],
      "source": [
        "from google.colab import drive\n",
        "drive.mount('/content/gdrive')"
      ]
    },
    {
      "cell_type": "markdown",
      "source": [
        "#Import files"
      ],
      "metadata": {
        "id": "02nqhX6rTML3"
      }
    },
    {
      "cell_type": "code",
      "source": [
        "import zipfile\n",
        "\n",
        "# Define the path to the zipped folder in your Google Drive\n",
        "zip_file_path = '/content/drive/My Drive/path_to_your_folder.zip' #Change!\n",
        "\n",
        "# Define the folder where you want to unzip the files (in-memory)\n",
        "unzip_folder = '/content/data' #Change name?!\n",
        "\n",
        "# Create the destination folder (in-memory)\n",
        "import os\n",
        "os.makedirs(unzip_folder, exist_ok=True)\n",
        "\n",
        "# Unzip the folder\n",
        "with zipfile.ZipFile(zip_file_path, 'r') as zip_ref:\n",
        "    zip_ref.extractall(unzip_folder)\n",
        "\n",
        "# List the files in the unzipped folder\n",
        "os.listdir(unzip_folder)"
      ],
      "metadata": {
        "id": "Xm9QjqS8SuKl"
      },
      "execution_count": null,
      "outputs": []
    },
    {
      "cell_type": "markdown",
      "source": [
        "#Set up preprocessing of RNA files"
      ],
      "metadata": {
        "id": "_q-pDdH8TR6A"
      }
    },
    {
      "cell_type": "code",
      "source": [],
      "metadata": {
        "id": "UTUBnJcQTVxX"
      },
      "execution_count": null,
      "outputs": []
    }
  ]
}