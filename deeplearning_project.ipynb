{
  "cells": [
    {
      "cell_type": "markdown",
      "metadata": {
        "colab_type": "text",
        "id": "view-in-github"
      },
      "source": [
        "<a href=\"https://colab.research.google.com/github/MEskerod/project_deeplearning_2023/blob/main/deeplearning_project.ipynb\" target=\"_parent\"><img src=\"https://colab.research.google.com/assets/colab-badge.svg\" alt=\"Open In Colab\"/></a>"
      ]
    },
    {
      "cell_type": "code",
      "execution_count": null,
      "metadata": {
        "colab": {
          "base_uri": "https://localhost:8080/"
        },
        "id": "UGL8EECjSJ3s",
        "outputId": "953ec400-2b8f-456b-cb4f-f4707b763bf7"
      },
      "outputs": [],
      "source": [
        "from google.colab import drive\n",
        "drive.mount('/content/gdrive')"
      ]
    },
    {
      "cell_type": "markdown",
      "metadata": {
        "id": "02nqhX6rTML3"
      },
      "source": [
        "# Import files"
      ]
    },
    {
      "cell_type": "code",
      "execution_count": 1,
      "metadata": {
        "colab": {
          "base_uri": "https://localhost:8080/",
          "height": 245
        },
        "id": "Xm9QjqS8SuKl",
        "outputId": "89c770e5-36d7-4e11-d5b8-52d1c6e1cac8"
      },
      "outputs": [
        {
          "data": {
            "text/plain": [
              "['RNAStrAlign-master-aedbaf9e95ebad34d15752fe1b750f5ff3960bca']"
            ]
          },
          "execution_count": 1,
          "metadata": {},
          "output_type": "execute_result"
        }
      ],
      "source": [
        "import tarfile, os\n",
        "\n",
        "# Define the path to the zipped folder in your Google Drive\n",
        "tar_file_path = 'RNAStralign.tar.gz' #Change!\n",
        "\n",
        "# Define the folder where you want to unzip the files (in-memory)\n",
        "extracted_folder = 'sequences' #Change name?!\n",
        "\n",
        "# Create the destination folder (in-memory)\n",
        "os.makedirs(extracted_folder, exist_ok=True)\n",
        "\n",
        "# Extract the tar.gz archive\n",
        "with tarfile.open(tar_file_path, 'r:gz') as tar:\n",
        "    tar.extractall(extracted_folder)\n",
        "\n",
        "# List the files in the extracted folder\n",
        "os.listdir(extracted_folder)"
      ]
    },
    {
      "cell_type": "code",
      "execution_count": 6,
      "metadata": {},
      "outputs": [],
      "source": [
        "import os\n",
        "from fnmatch import fnmatch\n",
        "\n",
        "root = \"sequences\"\n",
        "pattern = \"*.ct\"\n",
        "\n",
        "ct_files = []\n",
        "for path, subdirs, files in os.walk(root):\n",
        "    for name in files:\n",
        "        if fnmatch(name, pattern):\n",
        "            ct_files.append(os.path.join(path, name))\n",
        "with open(\"ct_files.txt\", \"w\") as output:\n",
        "    output.write(\"\\n\".join(ct_files))\n"
      ]
    },
    {
      "cell_type": "markdown",
      "metadata": {
        "id": "_q-pDdH8TR6A"
      },
      "source": [
        "# Set up preprocessing of RNA files"
      ]
    },
    {
      "cell_type": "code",
      "execution_count": 4,
      "metadata": {
        "id": "Nbzpl9-kUwJW"
      },
      "outputs": [],
      "source": [
        "### THESE NEEDS TO BE CHANGED TO FIT WITH LOADING FILES IN COLAB ###\n",
        "\n",
        "def read_bpseq(file: str) -> tuple():\n",
        "    \"\"\"\n",
        "    Takes a .bpseq file and returns the sequence as a string and a list of base pairs\n",
        "    \"\"\"\n",
        "\n",
        "    sequence = \"\"\n",
        "    pairs = []\n",
        "\n",
        "    with open(file, 'r') as f:\n",
        "        lines = [line.split() for line in f.readlines()]\n",
        "\n",
        "    #Remove header - if any\n",
        "    header_lines = 0\n",
        "    for line in lines:\n",
        "        if line[0] == '1':\n",
        "                break\n",
        "        else:\n",
        "            header_lines += 1\n",
        "\n",
        "    lines = lines[header_lines:]\n",
        "\n",
        "    #Make sequence in bp list\n",
        "    for line in lines:\n",
        "        sequence += line[1]\n",
        "        if line[2] != '0':\n",
        "            pairs.append((int(line[0])-1, int(line[2])-1)) #The files start indexing from 1\n",
        "    return sequence, pairs\n",
        "\n",
        "def read_ct(file: str) -> tuple():\n",
        "    \"\"\"\n",
        "    Takes a .ct file and returns the sequence as a string and a list of base pairs\n",
        "    \"\"\"\n",
        "    sequence = \"\"\n",
        "    pairs = []\n",
        "\n",
        "    with open(file, 'r') as f:\n",
        "        lines = [line.split() for line in f.readlines()]\n",
        "\n",
        "    #Remove header - if any\n",
        "    header_lines = 0\n",
        "    for line in lines:\n",
        "        if line[0] == '1':\n",
        "                break\n",
        "        else:\n",
        "            header_lines += 1\n",
        "\n",
        "    lines = lines[header_lines:]\n",
        "\n",
        "    for line in lines:\n",
        "        sequence += line[1]\n",
        "        if line[4] != '0':\n",
        "            pairs.append((int(line[0])-1, int(line[4])-1)) #The files start indexing from 1\n",
        "\n",
        "    return sequence, pairs"
      ]
    },
    {
      "cell_type": "code",
      "execution_count": 5,
      "metadata": {
        "id": "UTUBnJcQTVxX"
      },
      "outputs": [],
      "source": [
        "import numpy as np\n",
        "\n",
        "def make_matrix_from_sequence(sequence: str) -> np.array:\n",
        "    \"\"\"\n",
        "    A sequence is converted to a matrix containing all the possible base pairs\n",
        "\n",
        "    If the bases does not form  valid pair the cell is white.\n",
        "    The valid base pairs has the following colors:\n",
        "    GC = green\n",
        "    CG = dark green\n",
        "    UG = blue\n",
        "    GU = dark blue\n",
        "    UA = red\n",
        "    AU = dark red\n",
        "    \"\"\"\n",
        "    colors = {\"invalid_pairing\": [255, 255, 255],\n",
        "              \"unpaired\": [64, 64, 64],\n",
        "              \"GC\": [0, 255, 0],\n",
        "              \"CG\": [0, 128, 0],\n",
        "              \"UG\": [0, 0, 255],\n",
        "              \"GU\": [0, 0, 128],\n",
        "              \"UA\": [255, 0, 0],\n",
        "              \"AU\": [128, 0, 0]}\n",
        "    basepairs = [\"GC\", \"CG\", \"UG\", \"GU\", \"UA\", \"AU\"]\n",
        "\n",
        "    N = len(sequence)\n",
        "\n",
        "    matrix = np.full((N,N,3),255, dtype=\"uint8\")\n",
        "\n",
        "    for i in range(N):\n",
        "        for j in range(N):\n",
        "            pair = sequence[i] + sequence[j]\n",
        "            if i == j:\n",
        "                matrix[i, j, :] = colors[\"unpaired\"]\n",
        "            elif pair in basepairs:\n",
        "                matrix[i, j, :] = colors[pair]\n",
        "\n",
        "    return matrix\n",
        "\n",
        "\n",
        "def make_matrix_from_basepairs(sequence: str, pairs: list) -> np.array:\n",
        "    \"\"\"\n",
        "    Takes a list of all the base pairs.\n",
        "    From the list a matrix is made, with each cell coresponding to a base pair colered black\n",
        "    \"\"\"\n",
        "    black = [0, 0, 0]\n",
        "\n",
        "    N = len(sequence)\n",
        "    matrix = np.full((N,N,3),255, dtype=\"uint8\")\n",
        "\n",
        "    for pair in pairs:\n",
        "        matrix[pair[0], pair[1], :] = black\n",
        "\n",
        "    return matrix"
      ]
    },
    {
      "cell_type": "markdown",
      "metadata": {},
      "source": [
        "# Convert sequences"
      ]
    },
    {
      "cell_type": "code",
      "execution_count": null,
      "metadata": {},
      "outputs": [],
      "source": [
        "def getCtFromTxt(txt_file):\n",
        "    \"\"\"\n",
        "    Takes a txt file containing the path to all the ct files and returns a list of the paths\n",
        "    \"\"\"\n",
        "    with open(txt_file, 'r') as f:\n",
        "        ct_files = f.readlines()\n",
        "    ct_files = [file.strip() for file in ct_files if file.strip()[0] != \"#\"]\n",
        "    return ct_files"
      ]
    },
    {
      "cell_type": "code",
      "execution_count": null,
      "metadata": {},
      "outputs": [],
      "source": [
        "ct_files = getCtFromTxt(\"ct_files.txt\")\n",
        "\n",
        "file_list = []\n",
        "\n",
        "for file in ct_files: \n",
        "    if "
      ]
    },
    {
      "cell_type": "code",
      "execution_count": null,
      "metadata": {},
      "outputs": [],
      "source": [
        "# Create folders for images\n",
        "os.makedirs(\"input\", exist_ok=True)\n",
        "os.makedirs(\"result\", exist_ok=True)\n",
        "\n",
        "for file in file_list: \n"
      ]
    },
    {
      "cell_type": "code",
      "execution_count": null,
      "metadata": {},
      "outputs": [],
      "source": []
    }
  ],
  "metadata": {
    "colab": {
      "include_colab_link": true,
      "provenance": []
    },
    "kernelspec": {
      "display_name": "Python 3",
      "name": "python3"
    },
    "language_info": {
      "codemirror_mode": {
        "name": "ipython",
        "version": 3
      },
      "file_extension": ".py",
      "mimetype": "text/x-python",
      "name": "python",
      "nbconvert_exporter": "python",
      "pygments_lexer": "ipython3",
      "version": "3.10.0"
    }
  },
  "nbformat": 4,
  "nbformat_minor": 0
}
