{
  "nbformat": 4,
  "nbformat_minor": 0,
  "metadata": {
    "colab": {
      "provenance": [],
      "include_colab_link": true
    },
    "kernelspec": {
      "name": "python3",
      "display_name": "Python 3"
    },
    "language_info": {
      "name": "python"
    }
  },
  "cells": [
    {
      "cell_type": "markdown",
      "metadata": {
        "id": "view-in-github",
        "colab_type": "text"
      },
      "source": [
        "<a href=\"https://colab.research.google.com/github/MEskerod/project_deeplearning_2023/blob/main/deeplearning_project.ipynb\" target=\"_parent\"><img src=\"https://colab.research.google.com/assets/colab-badge.svg\" alt=\"Open In Colab\"/></a>"
      ]
    },
    {
      "cell_type": "code",
      "execution_count": 2,
      "metadata": {
        "id": "UGL8EECjSJ3s",
        "colab": {
          "base_uri": "https://localhost:8080/"
        },
        "outputId": "953ec400-2b8f-456b-cb4f-f4707b763bf7"
      },
      "outputs": [
        {
          "output_type": "stream",
          "name": "stdout",
          "text": [
            "Mounted at /content/gdrive\n"
          ]
        }
      ],
      "source": [
        "from google.colab import drive\n",
        "drive.mount('/content/gdrive')"
      ]
    },
    {
      "cell_type": "markdown",
      "source": [
        "#Import files"
      ],
      "metadata": {
        "id": "02nqhX6rTML3"
      }
    },
    {
      "cell_type": "code",
      "source": [
        "import tarfile, os\n",
        "\n",
        "# Define the path to the zipped folder in your Google Drive\n",
        "tar_file_path = '/content/drive/My Drive/Bioinformatik/deep_learning/project/RNAStralign.tar.gz' #Change!\n",
        "\n",
        "# Define the folder where you want to unzip the files (in-memory)\n",
        "extracted_folder = '/content/sequences' #Change name?!\n",
        "\n",
        "# Create the destination folder (in-memory)\n",
        "os.makedirs(extracted_folder, exist_ok=True)\n",
        "\n",
        "# Unzip the folder\n",
        "with zipfile.ZipFile(zip_file_path, 'r') as zip_ref:\n",
        "    zip_ref.extractall(unzip_folder)\n",
        "\n",
        "# List the files in the unzipped folder\n",
        "os.listdir(unzip_folder)"
      ],
      "metadata": {
        "id": "Xm9QjqS8SuKl",
        "colab": {
          "base_uri": "https://localhost:8080/",
          "height": 245
        },
        "outputId": "89c770e5-36d7-4e11-d5b8-52d1c6e1cac8"
      },
      "execution_count": 1,
      "outputs": [
        {
          "output_type": "error",
          "ename": "NameError",
          "evalue": "ignored",
          "traceback": [
            "\u001b[0;31m---------------------------------------------------------------------------\u001b[0m",
            "\u001b[0;31mNameError\u001b[0m                                 Traceback (most recent call last)",
            "\u001b[0;32m<ipython-input-1-29815c53e892>\u001b[0m in \u001b[0;36m<cell line: 13>\u001b[0;34m()\u001b[0m\n\u001b[1;32m     11\u001b[0m \u001b[0;34m\u001b[0m\u001b[0m\n\u001b[1;32m     12\u001b[0m \u001b[0;31m# Unzip the folder\u001b[0m\u001b[0;34m\u001b[0m\u001b[0;34m\u001b[0m\u001b[0m\n\u001b[0;32m---> 13\u001b[0;31m \u001b[0;32mwith\u001b[0m \u001b[0mzipfile\u001b[0m\u001b[0;34m.\u001b[0m\u001b[0mZipFile\u001b[0m\u001b[0;34m(\u001b[0m\u001b[0mzip_file_path\u001b[0m\u001b[0;34m,\u001b[0m \u001b[0;34m'r'\u001b[0m\u001b[0;34m)\u001b[0m \u001b[0;32mas\u001b[0m \u001b[0mzip_ref\u001b[0m\u001b[0;34m:\u001b[0m\u001b[0;34m\u001b[0m\u001b[0;34m\u001b[0m\u001b[0m\n\u001b[0m\u001b[1;32m     14\u001b[0m     \u001b[0mzip_ref\u001b[0m\u001b[0;34m.\u001b[0m\u001b[0mextractall\u001b[0m\u001b[0;34m(\u001b[0m\u001b[0munzip_folder\u001b[0m\u001b[0;34m)\u001b[0m\u001b[0;34m\u001b[0m\u001b[0;34m\u001b[0m\u001b[0m\n\u001b[1;32m     15\u001b[0m \u001b[0;34m\u001b[0m\u001b[0m\n",
            "\u001b[0;31mNameError\u001b[0m: name 'zipfile' is not defined"
          ]
        }
      ]
    },
    {
      "cell_type": "markdown",
      "source": [
        "#Set up preprocessing of RNA files"
      ],
      "metadata": {
        "id": "_q-pDdH8TR6A"
      }
    },
    {
      "cell_type": "code",
      "source": [
        "### THESE NEEDS TO BE CHANGED TO FIT WITH LOADING FILES IN COLAB ###\n",
        "\n",
        "def read_bpseq(file: TextIOWrapper) -> tuple():\n",
        "    \"\"\"\n",
        "    Takes a .bpseq file and returns the sequence as a string and a list of base pairs\n",
        "    \"\"\"\n",
        "\n",
        "    sequence = \"\"\n",
        "    pairs = []\n",
        "\n",
        "    lines = [line.split() for line in file.readlines()]\n",
        "\n",
        "    #Remove header - if any\n",
        "    header_lines = 0\n",
        "    for line in lines:\n",
        "        if line[0] == '1':\n",
        "                break\n",
        "        else:\n",
        "            header_lines += 1\n",
        "\n",
        "    lines = lines[header_lines:]\n",
        "\n",
        "    #Make sequence in bp list\n",
        "    for line in lines:\n",
        "        sequence += line[1]\n",
        "        if line[2] != '0':\n",
        "            pairs.append((int(line[0])-1, int(line[2])-1)) #The files start indexing from 1\n",
        "    return sequence, pairs\n",
        "\n",
        "def read_ct(file: TextIOWrapper) -> tuple():\n",
        "    \"\"\"\n",
        "    Takes a .ct file and returns the sequence as a string and a list of base pairs\n",
        "    \"\"\"\n",
        "    sequence = \"\"\n",
        "    pairs = []\n",
        "\n",
        "    lines = [line.split() for line in file.readlines()]\n",
        "\n",
        "    #Remove header - if any\n",
        "    header_lines = 0\n",
        "    for line in lines:\n",
        "        if line[0] == '1':\n",
        "                break\n",
        "        else:\n",
        "            header_lines += 1\n",
        "\n",
        "    lines = lines[header_lines:]\n",
        "\n",
        "    for line in lines:\n",
        "        sequence += line[1]\n",
        "        if line[4] != '0':\n",
        "            pairs.append((int(line[0])-1, int(line[4])-1)) #The files start indexing from 1\n",
        "\n",
        "    return sequence, pairs"
      ],
      "metadata": {
        "id": "Nbzpl9-kUwJW"
      },
      "execution_count": null,
      "outputs": []
    },
    {
      "cell_type": "code",
      "source": [
        "def make_matrix_from_sequence(sequence: str) -> np.array:\n",
        "    \"\"\"\n",
        "    A sequence is converted to a matrix containing all the possible base pairs\n",
        "\n",
        "    If the bases does not form  valid pair the cell is white.\n",
        "    The valid base pairs has the following colors:\n",
        "    GC = green\n",
        "    CG = dark green\n",
        "    UG = blue\n",
        "    GU = dark blue\n",
        "    UA = red\n",
        "    AU = dark red\n",
        "    \"\"\"\n",
        "    colors = {\"invalid_pairing\": [255, 255, 255],\n",
        "              \"unpaired\": [64, 64, 64],\n",
        "              \"GC\": [0, 255, 0],\n",
        "              \"CG\": [0, 128, 0],\n",
        "              \"UG\": [0, 0, 255],\n",
        "              \"GU\": [0, 0, 128],\n",
        "              \"UA\": [255, 0, 0],\n",
        "              \"AU\": [128, 0, 0]}\n",
        "    basepairs = [\"GC\", \"CG\", \"UG\", \"GU\", \"UA\", \"AU\"]\n",
        "\n",
        "    N = len(sequence)\n",
        "\n",
        "    matrix = np.full((N,N,3),255, dtype=\"uint8\")\n",
        "\n",
        "    for i in range(N):\n",
        "        for j in range(N):\n",
        "            pair = sequence[i] + sequence[j]\n",
        "            if i == j:\n",
        "                matrix[i, j, :] = colors[\"unpaired\"]\n",
        "            elif pair in basepairs:\n",
        "                matrix[i, j, :] = colors[pair]\n",
        "\n",
        "    return matrix\n",
        "\n",
        "\n",
        "def make_matrix_from_basepairs(sequence: str, pairs: list) -> np.array:\n",
        "    \"\"\"\n",
        "    Takes a list of all the base pairs.\n",
        "    From the list a matrix is made, with each cell coresponding to a base pair colered black\n",
        "    \"\"\"\n",
        "    black = [0, 0, 0]\n",
        "\n",
        "    N = len(sequence)\n",
        "    matrix = np.full((N,N,3),255, dtype=\"uint8\")\n",
        "\n",
        "    for pair in pairs:\n",
        "        matrix[pair[0], pair[1], :] = black\n",
        "\n",
        "    return matrix"
      ],
      "metadata": {
        "id": "UTUBnJcQTVxX"
      },
      "execution_count": null,
      "outputs": []
    }
  ]
}